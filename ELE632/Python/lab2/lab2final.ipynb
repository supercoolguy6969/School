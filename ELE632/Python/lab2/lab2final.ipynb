{
 "cells": [
  {
   "cell_type": "markdown",
   "metadata": {},
   "source": [
    "#### LAB 2: Time-Domain Analysis of Discrete-Time Systems-Part 2\n",
    "\n",
    "##### By: Aihemaiti Ankaer\n",
    "\n",
    "##### A. Unit Impulse Response\n",
    "\n",
    "##### 1)\n",
    "\n",
    "###### F = 1,  G = 3, H = 2 \n",
    "\n",
    "##### I. 𝑦[𝑛]+ (1/2)𝑦[𝑛−1] − (1/2)𝑦[𝑛−2]= (1/4)𝑥[𝑛]\n",
    "#####   𝑦[𝑛] = (1/4)𝑥[𝑛] - (1/2)𝑦[𝑛−1] +(1/2)𝑦[𝑛−2]\n",
    "#####   y[n+2] = (1/4)x[n+2] -(1/2)y[n+1] + (1/2)y[n]\n",
    "#####   y[n] = (1/2)y[n+2] - (1/8)x[n+2]+ (1/4)y[n+1]"
   ]
  },
  {
   "cell_type": "code",
   "execution_count": 17,
   "metadata": {},
   "outputs": [
    {
     "ename": "TypeError",
     "evalue": "'numpy.int64' object is not iterable",
     "output_type": "error",
     "traceback": [
      "\u001b[0;31m---------------------------------------------------------------------------\u001b[0m",
      "\u001b[0;31mTypeError\u001b[0m                                 Traceback (most recent call last)",
      "\u001b[1;32m/Users/ankarkeram/Desktop/school/ELE632/lab2/lab2final.ipynb Cell 2'\u001b[0m in \u001b[0;36m<cell line: 35>\u001b[0;34m()\u001b[0m\n\u001b[1;32m     <a href='vscode-notebook-cell:/Users/ankarkeram/Desktop/school/ELE632/lab2/lab2final.ipynb#ch0000003?line=29'>30</a>\u001b[0m     \u001b[39mreturn\u001b[39;00m output\n\u001b[1;32m     <a href='vscode-notebook-cell:/Users/ankarkeram/Desktop/school/ELE632/lab2/lab2final.ipynb#ch0000003?line=33'>34</a>\u001b[0m n \u001b[39m=\u001b[39m np\u001b[39m.\u001b[39marray([\u001b[39m0\u001b[39m,\u001b[39m20\u001b[39m])\n\u001b[0;32m---> <a href='vscode-notebook-cell:/Users/ankarkeram/Desktop/school/ELE632/lab2/lab2final.ipynb#ch0000003?line=34'>35</a>\u001b[0m output(n)\n\u001b[1;32m     <a href='vscode-notebook-cell:/Users/ankarkeram/Desktop/school/ELE632/lab2/lab2final.ipynb#ch0000003?line=37'>38</a>\u001b[0m plt\u001b[39m.\u001b[39mfigure\n\u001b[1;32m     <a href='vscode-notebook-cell:/Users/ankarkeram/Desktop/school/ELE632/lab2/lab2final.ipynb#ch0000003?line=38'>39</a>\u001b[0m plt\u001b[39m.\u001b[39mstem(n,delta(n))\n",
      "\u001b[1;32m/Users/ankarkeram/Desktop/school/ELE632/lab2/lab2final.ipynb Cell 2'\u001b[0m in \u001b[0;36moutput\u001b[0;34m(n)\u001b[0m\n\u001b[1;32m     <a href='vscode-notebook-cell:/Users/ankarkeram/Desktop/school/ELE632/lab2/lab2final.ipynb#ch0000003?line=26'>27</a>\u001b[0m         output[sample] \u001b[39m=\u001b[39m \u001b[39m0\u001b[39m \n\u001b[1;32m     <a href='vscode-notebook-cell:/Users/ankarkeram/Desktop/school/ELE632/lab2/lab2final.ipynb#ch0000003?line=27'>28</a>\u001b[0m     \u001b[39melse\u001b[39;00m:\n\u001b[0;32m---> <a href='vscode-notebook-cell:/Users/ankarkeram/Desktop/school/ELE632/lab2/lab2final.ipynb#ch0000003?line=28'>29</a>\u001b[0m         output[sample] \u001b[39m=\u001b[39m (\u001b[39m1\u001b[39m\u001b[39m/\u001b[39m\u001b[39m4\u001b[39m)\u001b[39m*\u001b[39mdelta(sample) \u001b[39m-\u001b[39m (\u001b[39m1\u001b[39m\u001b[39m/\u001b[39m\u001b[39m2\u001b[39m)\u001b[39m*\u001b[39moutput[sample\u001b[39m-\u001b[39m\u001b[39m1\u001b[39m] \u001b[39m+\u001b[39m (\u001b[39m1\u001b[39m\u001b[39m/\u001b[39m\u001b[39m2\u001b[39m)\u001b[39m*\u001b[39moutput[sample\u001b[39m-\u001b[39m\u001b[39m1\u001b[39m]\n\u001b[1;32m     <a href='vscode-notebook-cell:/Users/ankarkeram/Desktop/school/ELE632/lab2/lab2final.ipynb#ch0000003?line=29'>30</a>\u001b[0m \u001b[39mreturn\u001b[39;00m output\n",
      "\u001b[1;32m/Users/ankarkeram/Desktop/school/ELE632/lab2/lab2final.ipynb Cell 2'\u001b[0m in \u001b[0;36mdelta\u001b[0;34m(n)\u001b[0m\n\u001b[1;32m     <a href='vscode-notebook-cell:/Users/ankarkeram/Desktop/school/ELE632/lab2/lab2final.ipynb#ch0000003?line=12'>13</a>\u001b[0m \u001b[39mdef\u001b[39;00m \u001b[39mdelta\u001b[39m(n):\n\u001b[1;32m     <a href='vscode-notebook-cell:/Users/ankarkeram/Desktop/school/ELE632/lab2/lab2final.ipynb#ch0000003?line=13'>14</a>\u001b[0m     deltaFunc \u001b[39m=\u001b[39m np\u001b[39m.\u001b[39marray([])\n\u001b[0;32m---> <a href='vscode-notebook-cell:/Users/ankarkeram/Desktop/school/ELE632/lab2/lab2final.ipynb#ch0000003?line=14'>15</a>\u001b[0m     \u001b[39mfor\u001b[39;00m sample \u001b[39min\u001b[39;00m n:\n\u001b[1;32m     <a href='vscode-notebook-cell:/Users/ankarkeram/Desktop/school/ELE632/lab2/lab2final.ipynb#ch0000003?line=15'>16</a>\u001b[0m         \u001b[39mif\u001b[39;00m sample \u001b[39m==\u001b[39m \u001b[39m0\u001b[39m:\n\u001b[1;32m     <a href='vscode-notebook-cell:/Users/ankarkeram/Desktop/school/ELE632/lab2/lab2final.ipynb#ch0000003?line=16'>17</a>\u001b[0m             deltaFunc \u001b[39m=\u001b[39m np\u001b[39m.\u001b[39mappend(deltaFunc,\u001b[39m1\u001b[39m)\n",
      "\u001b[0;31mTypeError\u001b[0m: 'numpy.int64' object is not iterable"
     ]
    }
   ],
   "source": [
    "import numpy as np \n",
    "import matplotlib.pyplot as plt\n",
    "\n",
    "def u(a, n):\n",
    "    unit = np.array([])\n",
    "    for sample in n:\n",
    "        if sample<a:\n",
    "            unit = np.append(unit,0)\n",
    "        else:\n",
    "            unit = np.append(unit,1)\n",
    "    return(unit)\n",
    "\n",
    "def delta(n):\n",
    "    deltaFunc = np.array([])\n",
    "    for sample in n:\n",
    "        if sample == 0:\n",
    "            deltaFunc = np.append(deltaFunc,1)\n",
    "        else:\n",
    "            deltaFunc = np.append(deltaFunc,0)\n",
    "\n",
    "    return deltaFunc\n",
    "\n",
    "def output(n):\n",
    "    output = np.array([[]])\n",
    "    for sample in n:\n",
    "        if sample <= 0:\n",
    "            output[sample] = 0 \n",
    "        else:\n",
    "            output[sample] = (1/4)*delta(sample) - (1/2)*output[sample-1] + (1/2)*output[sample-1]\n",
    "    return output\n",
    "\n",
    "\n",
    "\n",
    "n = np.array([0,20])\n",
    "output(n)\n",
    "\n",
    "\n",
    "plt.figure\n",
    "plt.stem(n,delta(n))\n",
    "plt.show\n",
    "\n"
   ]
  }
 ],
 "metadata": {
  "interpreter": {
   "hash": "0f0ac3f1efff3b458dec7bf5b4f9f8945f4300ac9054b4dc72f73a2a0759bf59"
  },
  "kernelspec": {
   "display_name": "Python 3.9.12 ('base')",
   "language": "python",
   "name": "python3"
  },
  "language_info": {
   "codemirror_mode": {
    "name": "ipython",
    "version": 3
   },
   "file_extension": ".py",
   "mimetype": "text/x-python",
   "name": "python",
   "nbconvert_exporter": "python",
   "pygments_lexer": "ipython3",
   "version": "3.9.12"
  },
  "orig_nbformat": 4
 },
 "nbformat": 4,
 "nbformat_minor": 2
}
