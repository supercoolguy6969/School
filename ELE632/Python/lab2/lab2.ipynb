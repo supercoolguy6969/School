{
 "cells": [
  {
   "cell_type": "markdown",
   "metadata": {},
   "source": [
    "#### LAB 2: Time-Domain Analysis of Discrete-Time Systems-Part 2\n",
    "\n",
    "##### By: Aihemaiti Ankaer\n"
   ]
  },
  {
   "cell_type": "markdown",
   "metadata": {},
   "source": [
    "##### A. Unit Impulse Response"
   ]
  },
  {
   "cell_type": "markdown",
   "metadata": {},
   "source": [
    "##### 1)\n",
    "\n",
    "###### F = 1,  G = 3, H = 2 \n",
    "\n",
    "##### I. 𝑦[𝑛]+ (1/2)𝑦[𝑛−1] − (1/2)𝑦[𝑛−2]= (1/4)𝑥[𝑛]\n",
    "#####   𝑦[𝑛] = (1/4)𝑥[𝑛] - (1/2)𝑦[𝑛−1] +(1/2)𝑦[𝑛−2]"
   ]
  },
  {
   "cell_type": "code",
   "execution_count": 6,
   "metadata": {},
   "outputs": [
    {
     "ename": "TypeError",
     "evalue": "'int' object is not iterable",
     "output_type": "error",
     "traceback": [
      "\u001b[0;31m---------------------------------------------------------------------------\u001b[0m",
      "\u001b[0;31mTypeError\u001b[0m                                 Traceback (most recent call last)",
      "\u001b[1;32m/Users/ankarkeram/Desktop/school/ELE632/lab2/lab2.ipynb Cell 4'\u001b[0m in \u001b[0;36m<cell line: 23>\u001b[0;34m()\u001b[0m\n\u001b[1;32m     <a href='vscode-notebook-cell:/Users/ankarkeram/Desktop/school/ELE632/lab2/lab2.ipynb#ch0000003?line=19'>20</a>\u001b[0m         deltaFunc \u001b[39m=\u001b[39m \u001b[39m0\u001b[39m\n\u001b[1;32m     <a href='vscode-notebook-cell:/Users/ankarkeram/Desktop/school/ELE632/lab2/lab2.ipynb#ch0000003?line=20'>21</a>\u001b[0m     \u001b[39mreturn\u001b[39;00m deltaFunc\n\u001b[0;32m---> <a href='vscode-notebook-cell:/Users/ankarkeram/Desktop/school/ELE632/lab2/lab2.ipynb#ch0000003?line=22'>23</a>\u001b[0m \u001b[39mprint\u001b[39m(delta(\u001b[39m0\u001b[39;49m))\n",
      "\u001b[1;32m/Users/ankarkeram/Desktop/school/ELE632/lab2/lab2.ipynb Cell 4'\u001b[0m in \u001b[0;36mdelta\u001b[0;34m(n)\u001b[0m\n\u001b[1;32m     <a href='vscode-notebook-cell:/Users/ankarkeram/Desktop/school/ELE632/lab2/lab2.ipynb#ch0000003?line=15'>16</a>\u001b[0m \u001b[39mdef\u001b[39;00m \u001b[39mdelta\u001b[39m(n):\n\u001b[1;32m     <a href='vscode-notebook-cell:/Users/ankarkeram/Desktop/school/ELE632/lab2/lab2.ipynb#ch0000003?line=16'>17</a>\u001b[0m     \u001b[39mif\u001b[39;00m n \u001b[39m==\u001b[39m \u001b[39m0\u001b[39m:\n\u001b[0;32m---> <a href='vscode-notebook-cell:/Users/ankarkeram/Desktop/school/ELE632/lab2/lab2.ipynb#ch0000003?line=17'>18</a>\u001b[0m         deltaFunc \u001b[39m=\u001b[39m u(\u001b[39m0\u001b[39;49m,n) \u001b[39m-\u001b[39m u(\u001b[39m1\u001b[39m,n)    \n\u001b[1;32m     <a href='vscode-notebook-cell:/Users/ankarkeram/Desktop/school/ELE632/lab2/lab2.ipynb#ch0000003?line=18'>19</a>\u001b[0m     \u001b[39melse\u001b[39;00m:\n\u001b[1;32m     <a href='vscode-notebook-cell:/Users/ankarkeram/Desktop/school/ELE632/lab2/lab2.ipynb#ch0000003?line=19'>20</a>\u001b[0m         deltaFunc \u001b[39m=\u001b[39m \u001b[39m0\u001b[39m\n",
      "\u001b[1;32m/Users/ankarkeram/Desktop/school/ELE632/lab2/lab2.ipynb Cell 4'\u001b[0m in \u001b[0;36mu\u001b[0;34m(a, n)\u001b[0m\n\u001b[1;32m      <a href='vscode-notebook-cell:/Users/ankarkeram/Desktop/school/ELE632/lab2/lab2.ipynb#ch0000003?line=3'>4</a>\u001b[0m \u001b[39mdef\u001b[39;00m \u001b[39mu\u001b[39m(a, n):\n\u001b[1;32m      <a href='vscode-notebook-cell:/Users/ankarkeram/Desktop/school/ELE632/lab2/lab2.ipynb#ch0000003?line=4'>5</a>\u001b[0m     unit \u001b[39m=\u001b[39m np\u001b[39m.\u001b[39marray([])\n\u001b[0;32m----> <a href='vscode-notebook-cell:/Users/ankarkeram/Desktop/school/ELE632/lab2/lab2.ipynb#ch0000003?line=5'>6</a>\u001b[0m     \u001b[39mfor\u001b[39;00m sample \u001b[39min\u001b[39;00m n:\n\u001b[1;32m      <a href='vscode-notebook-cell:/Users/ankarkeram/Desktop/school/ELE632/lab2/lab2.ipynb#ch0000003?line=6'>7</a>\u001b[0m         \u001b[39mif\u001b[39;00m sample\u001b[39m<\u001b[39ma:\n\u001b[1;32m      <a href='vscode-notebook-cell:/Users/ankarkeram/Desktop/school/ELE632/lab2/lab2.ipynb#ch0000003?line=7'>8</a>\u001b[0m             unit \u001b[39m=\u001b[39m np\u001b[39m.\u001b[39mappend(unit,\u001b[39m0\u001b[39m)\n",
      "\u001b[0;31mTypeError\u001b[0m: 'int' object is not iterable"
     ]
    }
   ],
   "source": [
    "import numpy as np\n",
    "import matplotlib.pyplot as plt\n",
    "\n",
    "def u(a, n):\n",
    "    unit = np.array([])\n",
    "    for sample in n:\n",
    "        if sample<a:\n",
    "            unit = np.append(unit,0)\n",
    "        else:\n",
    "            unit = np.append(unit,1)\n",
    "    return(unit)\n",
    "\n",
    "\n",
    "\n",
    "\n",
    "def delta(n):\n",
    "    if n == 0:\n",
    "        deltaFunc = u(0,n) - u(1,n)    \n",
    "    else:\n",
    "        deltaFunc = 0\n",
    "    return deltaFunc\n",
    "\n",
    "\n",
    "print(delta(0))\n",
    "\n"
   ]
  },
  {
   "cell_type": "markdown",
   "metadata": {},
   "source": [
    "##### II. 𝑦[𝑛] + (1/3) 𝑦[𝑛 − 2] = 𝑥[𝑛]\n",
    "##### y[n] = -(1/3 y[n-2] +x [n]"
   ]
  },
  {
   "cell_type": "code",
   "execution_count": null,
   "metadata": {},
   "outputs": [],
   "source": []
  },
  {
   "cell_type": "markdown",
   "metadata": {},
   "source": [
    "##### B) Zero Input Response\n",
    "\n",
    "##### 𝑦[𝑛]−(9/10)𝑦[𝑛−1]− (1/10)[𝑦−2]= 2𝑥[𝑛]"
   ]
  }
 ],
 "metadata": {
  "interpreter": {
   "hash": "0f0ac3f1efff3b458dec7bf5b4f9f8945f4300ac9054b4dc72f73a2a0759bf59"
  },
  "kernelspec": {
   "display_name": "Python 3.9.12 ('base')",
   "language": "python",
   "name": "python3"
  },
  "language_info": {
   "codemirror_mode": {
    "name": "ipython",
    "version": 3
   },
   "file_extension": ".py",
   "mimetype": "text/x-python",
   "name": "python",
   "nbconvert_exporter": "python",
   "pygments_lexer": "ipython3",
   "version": "3.9.12"
  },
  "orig_nbformat": 4
 },
 "nbformat": 4,
 "nbformat_minor": 2
}
