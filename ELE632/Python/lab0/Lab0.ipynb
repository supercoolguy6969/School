{
 "cells": [
  {
   "cell_type": "code",
   "execution_count": 2,
   "id": "bc99cb3e",
   "metadata": {},
   "outputs": [],
   "source": [
    "# Intro to Python\n",
    "# Python is an interpreted high-level general-purpose programming language. \n",
    "# Python's design philosophy emphasizes code readability with its notable use of significant indentation.\n",
    "# Python is an easy-to-use language that makes it simple to get your program working\n",
    "\n",
    "\n",
    "# If you have trouble with any Python functions, you can visit the Python,\n",
    "# SciPy and NumPy help website as it usually comes with\n",
    "# tutorials with examples.\n",
    "\n",
    "\n",
    "# How to plot\n",
    "# In this course, we want to make a strong distinction between plot and\n",
    "# stem commands since we are differentiating between discrete and\n",
    "# continuous domains.\n",
    "\n",
    "# ‘import’ statement to make functions in a particular file accessible.\n",
    "import numpy as np  # Make all numpy available via shorter 'np' prefix\n",
    "import matplotlib.pyplot as plt # Make all matplotlib.pyplot available via shorter 'plt' prefix"
   ]
  },
  {
   "cell_type": "code",
   "execution_count": 3,
   "id": "4b360466",
   "metadata": {},
   "outputs": [
    {
     "data": {
      "image/png": "[encoded data removed]",
      "text/plain": [
       "<Figure size 432x288 with 1 Axes>"
      ]
     },
     "metadata": {
      "needs_background": "light"
     },
     "output_type": "display_data"
    }
   ],
   "source": [
    "# Here is an example for the plot command. Make sure to get used to the\n",
    "# version where you give both x and y arguments instead of the version\n",
    "# where you only give y arguments. In this example, note how I am using\n",
    "# plot on a \"continuous\" signal where I just specify the x to have\n",
    "# non-integer increments\n",
    "\n",
    "\n",
    "# We use NumPy arrays as opposed to Python list, since they take up less space, are faster and have optimized functions \n",
    "# such as linear algebra operations built in.\n",
    "x = np.arange(-1 , 1, 0.01) #defining evenly spaced values within a given interval numpy.arange( [start, stop), step)  \n",
    "y = np.sin(np.pi*x) #defining NumPy sin function\n",
    "\n",
    "plt.figure()\n",
    "plt.plot(x,y)\n",
    "plt.title('Continuous sinusoid')\n",
    "plt.show()"
   ]
  },
  {
   "cell_type": "code",
   "execution_count": 4,
   "id": "cdc6f30f",
   "metadata": {},
   "outputs": [
    {
     "data": {
      "image/png": "[encoded data removed]",
      "text/plain": [
       "<Figure size 432x288 with 1 Axes>"
      ]
     },
     "metadata": {
      "needs_background": "light"
     },
     "output_type": "display_data"
    }
   ],
   "source": [
    "# In this next example, x is going to be a discrete signal where I specify\n",
    "# x to be in integer increments. Therefore, I will be using the stem\n",
    "# command. Note that when I define x, I use the notation where I don't\n",
    "# specify the increment amount, since the default increment is 1.\n",
    "\n",
    "x = np.arange(-10, 10)\n",
    "y = np.sin(0.1*np.pi*x)\n",
    "plt.figure()\n",
    "plt.stem(x,y)\n",
    "plt.title('Discrete sinusoid')\n",
    "plt.show()"
   ]
  },
  {
   "cell_type": "code",
   "execution_count": 2,
   "id": "3113a787",
   "metadata": {},
   "outputs": [
    {
     "name": "stdout",
     "output_type": "stream",
     "text": [
      "[21 22 23 24 25 26 27 28 29]\n",
      "<class 'numpy.ndarray'>\n"
     ]
    }
   ],
   "source": [
    "# create variables x and y \n",
    "x = np.arange(1,10)\n",
    "y = np.arange(11,20)\n",
    "\n",
    "x = 0   #reassign/clear x\n",
    "\n",
    "#create a new variable x with different values\n",
    "x = np.arange(21, 30)   \n",
    "print(x)\n",
    "print(type(x))"
   ]
  },
  {
   "cell_type": "code",
   "execution_count": 6,
   "id": "1788e8b7",
   "metadata": {},
   "outputs": [
    {
     "name": "stdout",
     "output_type": "stream",
     "text": [
      "this is iteration  1\n",
      "this is iteration  2\n",
      "this is iteration  3\n",
      "\n",
      "\n"
     ]
    }
   ],
   "source": [
    "# Loops and enumeration\n",
    "# The syntax for for loops is: \n",
    "# for index = values:\n",
    "#   statements\n",
    "\n",
    "# where index is the iterator for the for loop which you will reference in\n",
    "# your statements, and values is an array that you can initialize inside of\n",
    "# the statement for before hand. Typically the normal use case is:\n",
    "\n",
    "for i in range(1, 4):\n",
    "    print('this is iteration ', i)\n",
    "\n",
    "print('\\n')"
   ]
  },
  {
   "cell_type": "code",
   "execution_count": 7,
   "id": "84800eb8",
   "metadata": {},
   "outputs": [
    {
     "name": "stdout",
     "output_type": "stream",
     "text": [
      "the current value of i is 5\n",
      "the current value of i is 2\n",
      "the current value of i is 10\n",
      "the current value of i is -1\n",
      "\n",
      "\n"
     ]
    }
   ],
   "source": [
    "#  you can also do this:\n",
    "\n",
    "x = np.array([5, 2, 10, -1])   #defining x as a NumPy array\n",
    "# x = [5, 2, 10, -1] # x can also be defined as a Python list like this but is not recommended\n",
    "\n",
    "for i in x: \n",
    "    print('the current value of i is', i)\n",
    "\n",
    "print('\\n')"
   ]
  },
  {
   "cell_type": "code",
   "execution_count": 8,
   "id": "1cfd6cfa",
   "metadata": {},
   "outputs": [
    {
     "name": "stdout",
     "output_type": "stream",
     "text": [
      "[[101 102 103 104 105]\n",
      " [111 112 113 114 115]\n",
      " [121 122 123 124 125]]\n",
      "\n",
      "\n"
     ]
    }
   ],
   "source": [
    "# Array indexing\n",
    "\n",
    "x = np.vstack( (np.arange(101, 106), np.arange(111, 116), np.arange(121, 126)) )\n",
    "print(x)\n",
    "print('\\n')"
   ]
  },
  {
   "cell_type": "code",
   "execution_count": 9,
   "id": "126bab31",
   "metadata": {},
   "outputs": [
    {
     "name": "stdout",
     "output_type": "stream",
     "text": [
      "[121 111 104 125 113]\n",
      "\n",
      "\n",
      "[10  5  3 14  7]\n"
     ]
    }
   ],
   "source": [
    "indices = np.array([10, 5, 3, 14, 7])\n",
    "print(x.flatten()[indices])\n",
    "print('\\n')\n",
    "print(indices)"
   ]
  },
  {
   "cell_type": "code",
   "execution_count": 10,
   "id": "5842e1ad",
   "metadata": {},
   "outputs": [
    {
     "name": "stdout",
     "output_type": "stream",
     "text": [
      "[[101 102 103 104 105]\n",
      " [111 112 113 114 115]\n",
      " [121 122 123 124 125]\n",
      " [131 132 133 134 135]]\n",
      "\n",
      "\n"
     ]
    }
   ],
   "source": [
    "y = np.arange(131,136)\n",
    "xy_vertical = np.vstack( (x,y) )\n",
    "print(xy_vertical)\n",
    "print('\\n')\n"
   ]
  },
  {
   "cell_type": "code",
   "execution_count": 11,
   "id": "6cc6a661",
   "metadata": {},
   "outputs": [
    {
     "name": "stdout",
     "output_type": "stream",
     "text": [
      "[[101 102 103 104 105 106 107 108 109 110]\n",
      " [111 112 113 114 115 116 117 118 119 120]\n",
      " [121 122 123 124 125 126 127 128 129 130]]\n",
      "\n",
      "\n"
     ]
    }
   ],
   "source": [
    "z = np.vstack( (np.arange(106, 111),  np.arange(116, 121),  np.arange(126, 131)  ) )\n",
    "xz_horizontal = np.hstack( (x, z) )\n",
    "print(xz_horizontal)\n",
    "print('\\n')\n"
   ]
  },
  {
   "cell_type": "code",
   "execution_count": 12,
   "id": "9683227d",
   "metadata": {},
   "outputs": [
    {
     "name": "stdout",
     "output_type": "stream",
     "text": [
      "[[ 0  1  2  3  4  5  6  7  8  9]\n",
      " [10 11 12 13 14 15 16 17 18 19]\n",
      " [20 21 22 23 24 25 26 27 28 29]]\n",
      "\n",
      "\n"
     ]
    }
   ],
   "source": [
    "x = np.arange(30).reshape(3,10)\n",
    "print(x)\n",
    "print('\\n')"
   ]
  },
  {
   "cell_type": "code",
   "execution_count": 13,
   "id": "8c24d7f9",
   "metadata": {},
   "outputs": [
    {
     "name": "stdout",
     "output_type": "stream",
     "text": [
      "X1 = \n",
      "\n",
      "\t\t\t\t  53\n",
      "\n",
      "\n"
     ]
    }
   ],
   "source": [
    "# Displaying Results\n",
    "\n",
    "X1 = 53\n",
    "X2 = 21\n",
    "\n",
    "print(\"X1 = \\n\\n\\t\\t\\t\\t \", X1)\n",
    "print('\\n')"
   ]
  },
  {
   "cell_type": "code",
   "execution_count": 14,
   "id": "4084cef8",
   "metadata": {},
   "outputs": [
    {
     "name": "stdout",
     "output_type": "stream",
     "text": [
      "[[1. 1. 0.]\n",
      " [0. 1. 1.]\n",
      " [0. 0. 0.]]\n",
      "[[ True  True False]\n",
      " [False  True  True]\n",
      " [False False False]]\n",
      "[11 12 15 16]\n",
      "[[ 1  2 13]\n",
      " [14  5  6]\n",
      " [17 18 19]]\n",
      "[[-11 -12 -13]\n",
      " [ 14  15  16]\n",
      " [ 17  18  19]]\n",
      "[[11 12  0]\n",
      " [ 0 15 16]\n",
      " [ 0  0  0]]\n"
     ]
    }
   ],
   "source": [
    "# Booleans\n",
    "# Boolean logic can be used in multiple different ways in Python to access\n",
    "# arrays or supress values.\n",
    "\n",
    "DoubleMatrix = np.array([ [1.0, 1.0, 0], [0, 1.0, 1.0], [0, 0, 0] ])\n",
    "print(DoubleMatrix)\n",
    "BooleanMatrix = (DoubleMatrix == 1)\n",
    "print(BooleanMatrix)\n",
    "A = np.array([ [11, 12, 13], [14, 15, 16], [17, 18, 19] ])\n",
    "# B[DoubleMatrix] This will error.\n",
    "C = A[BooleanMatrix]\n",
    "print(C)\n",
    "\n",
    "D = A.copy()    #NumPy assigns by reference \n",
    "D[BooleanMatrix] = D[BooleanMatrix] - 10 \n",
    "print(D) \n",
    "\n",
    "\n",
    "E = A.copy()    #NumPy assigns by reference\n",
    "E[E < 14] = E[E < 14] * -1 \n",
    "print(E)\n",
    "\n",
    "# When you multiply with a boolean matrix it will behave as a mask.\n",
    "F = A * BooleanMatrix\n",
    "print(F)"
   ]
  },
  {
   "cell_type": "code",
   "execution_count": 15,
   "id": "c3367a99",
   "metadata": {},
   "outputs": [
    {
     "data": {
      "image/png": "[encoded data removed]",
      "text/plain": [
       "<Figure size 432x288 with 1 Axes>"
      ]
     },
     "metadata": {
      "needs_background": "light"
     },
     "output_type": "display_data"
    }
   ],
   "source": [
    "# In multiple parts of your labs, you will be dealing with discrete\n",
    "# functions which need to have the behaviour where the output needs to be\n",
    "# zero if the input is non-integer. This behaviour can be replicated by\n",
    "# using logicals:\n",
    "\n",
    "n = np.arange(-5, 6)\n",
    "\n",
    "# function to generate unit step u[n-a]\n",
    "# a is the delay (enter '-a' for advance)\n",
    "def u(a, n):\n",
    "    unit = np.array([])\n",
    "    for sample in n:\n",
    "        if sample<a:\n",
    "            unit = np.append(unit,0)\n",
    "        else:\n",
    "            unit = np.append(unit,1)\n",
    "    return(unit)\n",
    "\n",
    "plt.figure()\n",
    "plt.stem(n, u(1,n))\n",
    "plt.show()\n",
    "# In the discrete unit step function we just created, the if statement\n",
    "# makes any output 0 if the input is less than the delay/advance. The else\n",
    "# statement makes the output 1 till the end of the defined interval 'n'"
   ]
  },
  {
   "cell_type": "code",
   "execution_count": 16,
   "id": "3119a2c4",
   "metadata": {},
   "outputs": [
    {
     "data": {
      "image/png": "[encoded data removed]",
      "text/plain": [
       "<Figure size 432x288 with 1 Axes>"
      ]
     },
     "metadata": {
      "needs_background": "light"
     },
     "output_type": "display_data"
    }
   ],
   "source": [
    "# Alternatively, if we want a continuous unit step function, we can define\n",
    "# the interval with a step smaller than 1 (i.e 0.1)\n",
    "\n",
    "n = np.arange(-5, 6, 0.1)\n",
    "\n",
    "plt.figure()\n",
    "plt.plot(n, u(0,n))\n",
    "plt.show()"
   ]
  },
  {
   "cell_type": "code",
   "execution_count": 17,
   "id": "275c335f",
   "metadata": {},
   "outputs": [
    {
     "name": "stdout",
     "output_type": "stream",
     "text": [
      "Python version up to date\n",
      "\n"
     ]
    }
   ],
   "source": [
    "# Versioning\n",
    "# When using different versions of Python certain functions change name or\n",
    "# functionallity. To get around this issue you can check the version and\n",
    "# use an if statement to get around the issue or throw an error.\n",
    "\n",
    "# Here is an example in practice:\n",
    "\n",
    "import platform\n",
    "from packaging import version\n",
    "\n",
    "if version.parse(platform.python_version()) < version.parse(\"3.0.0\"):\n",
    "    raise Exception('Python version outdated')\n",
    "else:\n",
    "    print('Python version up to date\\n')"
   ]
  },
  {
   "cell_type": "code",
   "execution_count": 18,
   "id": "fb0f97a5",
   "metadata": {},
   "outputs": [
    {
     "data": {
      "image/png": "[encoded data removed]",
      "text/plain": [
       "<Figure size 432x288 with 2 Axes>"
      ]
     },
     "metadata": {
      "needs_background": "light"
     },
     "output_type": "display_data"
    }
   ],
   "source": [
    "# A specific example is when you want a title over a plot with multiple\n",
    "# subplots\n",
    "\n",
    "y1 = np.arange(1, 20, 2)\n",
    "y2 = np.arange(10, 0, -1)\n",
    "x = np.arange(1, 11)\n",
    "\n",
    "plt.figure()\n",
    "plt.subplot(1,2,1)\n",
    "plt.plot(x,y1)\n",
    "plt.title('Plot 1')\n",
    "\n",
    "plt.subplot(1,2,2)\n",
    "plt.plot(x,y2)\n",
    "plt.title('Plot 2')\n",
    "plt.show()"
   ]
  },
  {
   "cell_type": "code",
   "execution_count": 19,
   "id": "9eb6dc3c",
   "metadata": {},
   "outputs": [
    {
     "name": "stdout",
     "output_type": "stream",
     "text": [
      "3.0\n",
      "2.0\n"
     ]
    }
   ],
   "source": [
    "# Anonymous functions\n",
    "\n",
    "# There are three points to the function: \n",
    "#     Name - This is what is used to call the function\n",
    "#     Variables - These are your inputs\n",
    "#     Calculation - This is what you want your function to do\n",
    "# In anonymous functions the name takes the space of the variable to the\n",
    "# left of the equals sign. In Python, anonymous functions are also called\n",
    "# lambda functions\n",
    "\n",
    "# Name = ...\n",
    "\n",
    "# The variables are then placed after 'lambda' are\n",
    "# separated by commas.\n",
    "\n",
    "#  Name = lambda Variable1,Variable2,... : ...\n",
    "\n",
    "#  The calculation behaves the same as if you were just writing the function\n",
    "#  normally.\n",
    "\n",
    "#  Name = lambda Variable1,Variable2,... : 5*Variable1 + 2*Variable2\n",
    "\n",
    "# Anonymous functions are called the same way regular functions are called,\n",
    "# so in this example:\n",
    "\n",
    "# Name(x,y)\n",
    "\n",
    "# Here is an example in practice:\n",
    "\n",
    "a = 1\n",
    "b = 5\n",
    "c = 6\n",
    "\n",
    "root1 = lambda x1,x2,x3: (x2 + np.square(x2**2-4*x1*x3))/(2*x1)\n",
    "root2 = lambda x1,x2,x3: (x2 - np.square(x2**2-4*x1*x3))/(2*x1)\n",
    "\n",
    "ans1 = root1(a,b,c)\n",
    "ans2 = root2(a,b,c)\n",
    "\n",
    "print(ans1)\n",
    "print(ans2)"
   ]
  },
  {
   "cell_type": "code",
   "execution_count": 1,
   "id": "1c80d56c",
   "metadata": {},
   "outputs": [
    {
     "ename": "ValueError",
     "evalue": "The truth value of an array with more than one element is ambiguous. Use a.any() or a.all()",
     "output_type": "error",
     "traceback": [
      "\u001b[0;31m---------------------------------------------------------------------------\u001b[0m",
      "\u001b[0;31mValueError\u001b[0m                                Traceback (most recent call last)",
      "\u001b[1;32m/Users/ankarkeram/Desktop/school/ELE632/lab0/Lab0.ipynb Cell 19'\u001b[0m in \u001b[0;36m<cell line: 23>\u001b[0;34m()\u001b[0m\n\u001b[1;32m     <a href='vscode-notebook-cell:/Users/ankarkeram/Desktop/school/ELE632/lab0/Lab0.ipynb#ch0000018?line=20'>21</a>\u001b[0m n \u001b[39m=\u001b[39m np\u001b[39m.\u001b[39marange(\u001b[39m0\u001b[39m,\u001b[39m20\u001b[39m)\n\u001b[1;32m     <a href='vscode-notebook-cell:/Users/ankarkeram/Desktop/school/ELE632/lab0/Lab0.ipynb#ch0000018?line=21'>22</a>\u001b[0m plt\u001b[39m.\u001b[39mfigure\n\u001b[0;32m---> <a href='vscode-notebook-cell:/Users/ankarkeram/Desktop/school/ELE632/lab0/Lab0.ipynb#ch0000018?line=22'>23</a>\u001b[0m plt\u001b[39m.\u001b[39mstem(n,delta(n))\n\u001b[1;32m     <a href='vscode-notebook-cell:/Users/ankarkeram/Desktop/school/ELE632/lab0/Lab0.ipynb#ch0000018?line=23'>24</a>\u001b[0m plt\u001b[39m.\u001b[39mshow\n",
      "\u001b[1;32m/Users/ankarkeram/Desktop/school/ELE632/lab0/Lab0.ipynb Cell 19'\u001b[0m in \u001b[0;36mdelta\u001b[0;34m(n)\u001b[0m\n\u001b[1;32m     <a href='vscode-notebook-cell:/Users/ankarkeram/Desktop/school/ELE632/lab0/Lab0.ipynb#ch0000018?line=12'>13</a>\u001b[0m \u001b[39mdef\u001b[39;00m \u001b[39mdelta\u001b[39m(n):\n\u001b[0;32m---> <a href='vscode-notebook-cell:/Users/ankarkeram/Desktop/school/ELE632/lab0/Lab0.ipynb#ch0000018?line=13'>14</a>\u001b[0m     \u001b[39mif\u001b[39;00m n \u001b[39m==\u001b[39m \u001b[39m0\u001b[39m:\n\u001b[1;32m     <a href='vscode-notebook-cell:/Users/ankarkeram/Desktop/school/ELE632/lab0/Lab0.ipynb#ch0000018?line=14'>15</a>\u001b[0m         deltaFunc \u001b[39m=\u001b[39m \u001b[39m1\u001b[39m\n\u001b[1;32m     <a href='vscode-notebook-cell:/Users/ankarkeram/Desktop/school/ELE632/lab0/Lab0.ipynb#ch0000018?line=15'>16</a>\u001b[0m     \u001b[39melse\u001b[39;00m:\n",
      "\u001b[0;31mValueError\u001b[0m: The truth value of an array with more than one element is ambiguous. Use a.any() or a.all()"
     ]
    }
   ],
   "source": [
    "import numpy as np \n",
    "import matplotlib.pyplot as plt\n",
    "\n",
    "def u(a, n):\n",
    "    unit = np.array([])\n",
    "    for sample in n:\n",
    "        if sample<a:\n",
    "            unit = np.append(unit,0)\n",
    "        else:\n",
    "            unit = np.append(unit,1)\n",
    "    return(unit)\n",
    "\n",
    "def delta(n):\n",
    "    if n == 0:\n",
    "        deltaFunc = 1\n",
    "    else:\n",
    "        deltaFunc = 0\n",
    "    return deltaFunc\n",
    "\n",
    "\n",
    "n = np.arange(0,20)\n",
    "plt.figure\n",
    "plt.stem(n,delta(n))\n",
    "plt.show\n"
   ]
  }
 ],
 "metadata": {
  "kernelspec": {
   "display_name": "Python 3",
   "language": "python",
   "name": "python3"
  },
  "language_info": {
   "codemirror_mode": {
    "name": "ipython",
    "version": 3
   },
   "file_extension": ".py",
   "mimetype": "text/x-python",
   "name": "python",
   "nbconvert_exporter": "python",
   "pygments_lexer": "ipython3",
   "version": "3.9.12"
  }
 },
 "nbformat": 4,
 "nbformat_minor": 5
}
